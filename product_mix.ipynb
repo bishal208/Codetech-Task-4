# Product Mix Optimization using PuLP (Linear Programming)

# Step 1: Import required libraries
from pulp import LpProblem, LpMaximize, LpVariable, LpStatus, value
import matplotlib.pyplot as plt

# Step 2: Define the LP problem
model = LpProblem("Product_Mix_Optimization", LpMaximize)

# Step 3: Define decision variables
x1 = LpVariable("Product_1_Units", lowBound=0, cat='Continuous')
x2 = LpVariable("Product_2_Units", lowBound=0, cat='Continuous')

# Step 4: Define the objective function (maximize profit)
model += 50 * x1 + 40 * x2, "Total_Profit"

# Step 5: Define the constraints
model += 4 * x1 + 3 * x2 <= 240, "Machine_Time_Constraint"
model += 2 * x1 + 1 * x2 <= 100, "Labor_Hours_Constraint"

# Step 6: Solve the model
model.solve()

# Step 7: Print the results
print(" Optimization Result:")
print(f"Status         : {LpStatus[model.status]}")
print(f"Product 1 Units: {x1.varValue}")
print(f"Product 2 Units: {x2.varValue}")
print(f"Maximum Profit : ₹{value(model.objective)}")

# Step 8: Visualize the result (optional)
plt.figure(figsize=(8, 6))

# Plot constraints
x_vals = list(range(0, 70))
y1 = [(240 - 4 * x) / 3 for x in x_vals]   # From Machine Time constraint
y2 = [(100 - 2 * x) / 1 for x in x_vals]   # From Labor constraint

plt.plot(x_vals, y1, label='Machine Time Constraint', color='blue')
plt.plot(x_vals, y2, label='Labor Constraint', color='green')

# Feasible region shade (optional)
plt.fill_between(x_vals, 0, [min(a, b) for a, b in zip(y1, y2)],
                 color='orange', alpha=0.3)

# Plot optimal solution
plt.plot(x1.varValue, x2.varValue, 'ro', label='Optimal Solution (30, 0)')
plt.xlabel('Product 1 Units')
plt.ylabel('Product 2 Units')
plt.title('Feasible Region and Optimal Point')
plt.legend()
plt.grid(True)
plt.show()
